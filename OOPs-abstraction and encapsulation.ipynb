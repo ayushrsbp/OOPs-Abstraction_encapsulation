{
 "cells": [
  {
   "cell_type": "code",
   "execution_count": 5,
   "id": "5bb88740-6259-4ea3-b338-f2684bf67e00",
   "metadata": {},
   "outputs": [
    {
     "name": "stdout",
     "output_type": "stream",
     "text": [
      "Woof!\n"
     ]
    }
   ],
   "source": [
    "# Q1. Abstraction allows to create abstract class that define a common set of methods and properties for a group of related objects. These abstract classes or interfaces serve as blueprints for creating concrete classes, which are the actual implementations of the abstract structure.\n",
    "\n",
    "import abc\n",
    "\n",
    "class Animal:\n",
    "    @abc.abstractmethod\n",
    "    def sound(self):\n",
    "        pass\n",
    "\n",
    "class Dog(Animal):\n",
    "    def sound(self):\n",
    "        return \"Woof!\"\n",
    "\n",
    "dog = Dog()\n",
    "print(dog.sound())\n"
   ]
  },
  {
   "cell_type": "code",
   "execution_count": 15,
   "id": "ea77a917-e5fd-456a-9119-e39ebb23c00a",
   "metadata": {},
   "outputs": [
    {
     "name": "stdout",
     "output_type": "stream",
     "text": [
      "buddy\n",
      "Woof!\n",
      "whiskers\n",
      "Meow!\n",
      "Toyota\n",
      "Camry\n",
      "2021\n",
      "0\n",
      "100\n"
     ]
    }
   ],
   "source": [
    "# Q2.\n",
    "# Difference between abstraction and encapsulation:-\n",
    "#     1. Abstraction:-\n",
    "#         * The purpose of abstraction is to simplify complex systems by focusing on the essential features and behaviors while hiding irrelevant details.\n",
    "#         * Abstraction focuses on the design and behavior of objects and systems. It emphasizes what an object does rather than how it does it.\n",
    "#         * Abstraction hides unnecessary implementation details and emphasizes the essential features and behaviors of objects or systems.\n",
    "#         * Abstraction is implemented using abstract classes, and inheritance.\n",
    "        \n",
    "#     2. Encapsulation:-\n",
    "#         * The purpose of encapsulation is to bundle data and the methods that operate on that data into a single unit called a class. It combines data and behavior, protecting the data from direct external access and providing controlled access through methods.\n",
    "#         * Encapsulation focuses on data and its related behavior. Encapsulation ensures that the data is accessed and modified through controlled methods, enabling data integrity and providing a clear interface to interact with the object.\n",
    "#         * Encapsulation hides the internal details of an object and exposes only the necessary information and behavior through methods.\n",
    "#         * Encapsulation is implemented using classes and access modifiers.\n",
    "\n",
    "\n",
    "# Abstraction: Abstract Class\n",
    "import abc\n",
    "\n",
    "class Animal():\n",
    "    def __init__(self, name):\n",
    "        self.name = name\n",
    "\n",
    "    @abc.abstractmethod\n",
    "    def sound(self):\n",
    "        pass\n",
    "\n",
    "class Dog(Animal):\n",
    "    def sound(self):\n",
    "        return \"Woof!\"\n",
    "\n",
    "class Cat(Animal):\n",
    "    def sound(self):\n",
    "        return \"Meow!\"\n",
    "\n",
    "dog = Dog(\"buddy\")\n",
    "print(dog.name)  \n",
    "print(dog.sound()) \n",
    "\n",
    "cat = Cat(\"whiskers\")\n",
    "print(cat.name)  \n",
    "print(cat.sound()) \n",
    "\n",
    "\n",
    "# Encapsulation: Class with private attributes and public methods\n",
    "\n",
    "class Car:\n",
    "    def __init__(self, make, model, year):\n",
    "        self.make = make  # Encapsulated attribute (public)\n",
    "        self.__model = model  # Encapsulated attribute (private)\n",
    "        self._year = year  # Encapsulated attribute (protected)\n",
    "        self._mileage = 0  # Encapsulated attribute (protected)\n",
    "\n",
    "    def get_make(self):\n",
    "        return self.make\n",
    "\n",
    "    def get_model(self):\n",
    "        return self.__model\n",
    "\n",
    "    def get_year(self):\n",
    "        return self._year\n",
    "\n",
    "    def get_mileage(self):\n",
    "        return self._mileage\n",
    "\n",
    "    def drive(self, miles):\n",
    "        self._mileage += miles\n",
    "\n",
    "car = Car(\"Toyota\", \"Camry\", 2021)\n",
    "print(car.get_make())  # Output: Toyota\n",
    "print(car.get_model())  # Output: Camry\n",
    "print(car.get_year())  # Output: 2021\n",
    "print(car.get_mileage())  # Output: 0\n",
    "\n",
    "car.drive(100)\n",
    "print(car.get_mileage())  # Output: 100\n",
    "\n"
   ]
  },
  {
   "cell_type": "code",
   "execution_count": 7,
   "id": "181eeb00-1d1e-4607-82d5-77f0f168e66b",
   "metadata": {},
   "outputs": [],
   "source": [
    "#Q3.\n",
    "#  abc (Abstract Base Classes) that allows to define abstract classes. Abstract classes cannot be instantiated directly, they serve as a blueprint for creating derived classes."
   ]
  },
  {
   "cell_type": "code",
   "execution_count": 8,
   "id": "796edccb-591b-4bed-bd8f-8df689e8228f",
   "metadata": {},
   "outputs": [],
   "source": [
    "# Q4.\n",
    "# We can achieve data abstraction by following these techniques:\n",
    "#     * Encapsulation:\n",
    "#         Encapsulation in Python involves bundling data and methods into a class. By encapsulating data within the class, we can control access to it and hide its internal implementation.\n",
    "    \n",
    "#     * Property Decorators:\n",
    "#         Python's property decorators allow us to define computed properties, which are attributes that are dynamically computed based on other attributes.\n",
    "    \n",
    "#     * Getter and Setter:\n",
    "#         The '@property' decorator allows us to define a getter method, while the '@<attribute>.setter' decorator allows you to define a setter method. This way, we can enforce data abstraction by controlling how attributes are accessed and modified."
   ]
  },
  {
   "cell_type": "code",
   "execution_count": 16,
   "id": "d7f4dab8-168f-4ab8-bb13-be09fb3c2955",
   "metadata": {},
   "outputs": [],
   "source": [
    "# Q5.\n",
    "# An abstract class is a class that cannot be instantiated directly because it may contain one or more abstract methods. An abstract method is a method declared in the abstract class but does not have an implementation. Instead, its implementation is provided by the derived classes that inherit from the abstract class."
   ]
  },
  {
   "cell_type": "code",
   "execution_count": null,
   "id": "e67a2c23-bf77-4a11-a1d5-10cd4dc930f5",
   "metadata": {},
   "outputs": [],
   "source": []
  }
 ],
 "metadata": {
  "kernelspec": {
   "display_name": "Python 3 (ipykernel)",
   "language": "python",
   "name": "python3"
  },
  "language_info": {
   "codemirror_mode": {
    "name": "ipython",
    "version": 3
   },
   "file_extension": ".py",
   "mimetype": "text/x-python",
   "name": "python",
   "nbconvert_exporter": "python",
   "pygments_lexer": "ipython3",
   "version": "3.10.8"
  }
 },
 "nbformat": 4,
 "nbformat_minor": 5
}
